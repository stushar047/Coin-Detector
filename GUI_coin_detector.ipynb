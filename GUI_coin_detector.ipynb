{
 "cells": [
  {
   "cell_type": "code",
   "execution_count": 1,
   "metadata": {},
   "outputs": [],
   "source": [
    "import cv2\n",
    "import numpy as np\n",
    "from tkinter import *\n",
    "from PIL import Image\n",
    "from PIL import ImageTk\n",
    "from tkinter import filedialog"
   ]
  },
  {
   "cell_type": "code",
   "execution_count": 2,
   "metadata": {},
   "outputs": [],
   "source": [
    "def coin_detection(path): \n",
    "    \n",
    "    # a=4.5\n",
    "    a = slider1.get()\n",
    "    \n",
    "    # b=3;\n",
    "    b = slider2.get()\n",
    "    \n",
    "    img_main = cv2.imread(path,1) \n",
    "    \n",
    "    cimg = img_main.copy() \n",
    "    \n",
    "    img_hsv = cv2.cvtColor(cimg,cv2.COLOR_BGR2HSV)\n",
    "    \n",
    "    _,_,img = cv2.split(img_hsv)\n",
    "    \n",
    "    #img = cv2.cvtColor(cimg,cv2.COLOR_BGR2GRAY);\n",
    "    \n",
    "    r,c=img.shape[0],img.shape[1]\n",
    "\n",
    "    blur = cv2.GaussianBlur(img,(9,9),0)\n",
    "\n",
    "    circles = cv2.HoughCircles(blur,cv2.HOUGH_GRADIENT,1,20, param1=80,param2=30,minRadius=int(r/a),maxRadius=int(r/b))\n",
    "\n",
    "    Sq_Circles=np.squeeze(circles)\n",
    "\n",
    "    Center=Sq_Circles[:,:2]\n",
    "\n",
    "    N=np.arange(len(circles[0]))\n",
    "    for i in range(len(Center)):\n",
    "        if N[i]==i:\n",
    "            N[np.where((np.sqrt(np.sum((Center-Center[i])**2,axis=1)))<=int(r/a)*0.70)[0]]=i  \n",
    "        else:\n",
    "            pass\n",
    "\n",
    "    Val=[];\n",
    "    NU=np.unique(N);\n",
    "    for i in NU:  \n",
    "        Val.append(np.where(N==i)[0])\n",
    "    New=np.zeros((len(Val),3),np.uint16)\n",
    "    for j in range(len(Val)):\n",
    "        try:\n",
    "            for k in range(len(Val[j])):\n",
    "                New[j,:]+=Sq_Circles[Val[j][k]]\n",
    "        except:\n",
    "            New[j,:]=Sq_Circles[Val[j][0]]\n",
    "\n",
    "    try:\n",
    "        cv2.putText(cimg, \"The Number of coints:\"+str(len(New)), (30,20), cv2.FONT_HERSHEY_SIMPLEX, \n",
    "                       1, (0,100,255), 2, cv2.LINE_AA)\n",
    "        for i in New:\n",
    "            cv2.circle(cimg,(i[0],i[1]),i[2],(0,255,0),4)\n",
    "            #cv2.circle(cimg,(i[0],i[1]),2,(0,0,255),3)\n",
    "            cv2.putText(cimg, str(i[2]*2), (i[0]-i[2]//2,i[1]), cv2.FONT_HERSHEY_SIMPLEX, \n",
    "                       1, (0,100,255), 2, cv2.LINE_AA)\n",
    "    except:\n",
    "        pass\n",
    "    return img_main,cimg"
   ]
  },
  {
   "cell_type": "code",
   "execution_count": 26,
   "metadata": {},
   "outputs": [],
   "source": [
    "def select_image():\n",
    "    # grab a reference to the image panels\n",
    "    global panelA, panelB\n",
    "    # open a file chooser dialog and allow the user to select an input\n",
    "    path = filedialog.askopenfilename()\n",
    "    if len(path) > 0:\n",
    "    # # load the image from disk, convert it to grayscale, and detect\n",
    "    # # edges in it\n",
    "        image,detector=coin_detection(path)\n",
    "        W,H,_=image.shape\n",
    "        print(W,H)\n",
    "        image = cv2.resize(cv2.cvtColor(image, cv2.COLOR_BGR2RGB),(400,int(400*(W/H))))\n",
    "        detector = cv2.resize(cv2.cvtColor(detector, cv2.COLOR_BGR2RGB),(400,int(400*(W/H))))\n",
    "        # convert the images to PIL format...\n",
    "        image = Image.fromarray(image)\n",
    "        detector = Image.fromarray(detector)\n",
    "        # ...and then to ImageTk format\n",
    "        image = ImageTk.PhotoImage(image)\n",
    "        detector = ImageTk.PhotoImage(detector)\n",
    "        if panelA is None or panelB is None:\n",
    "        # the first panel will store our original image\n",
    "            panelA = Label(image=image)\n",
    "            panelA.image = image\n",
    "            panelA.pack(side=\"left\", padx=10, pady=10,expand=True)\n",
    "            # while the second panel will store the edge map\n",
    "            panelB = Label(image=detector)\n",
    "            panelB.image = detector\n",
    "            panelB.pack(side=\"right\", padx=10, pady=10,expand=True)\n",
    "        # otherwise, update the image panels\n",
    "        else:\n",
    "        # update the pannels\n",
    "            panelA.configure(image=image)\n",
    "            panelB.configure(image=detector)\n",
    "            panelA.image = image\n",
    "            panelB.imaroot = Tk()"
   ]
  },
  {
   "cell_type": "code",
   "execution_count": 27,
   "metadata": {},
   "outputs": [
    {
     "name": "stdout",
     "output_type": "stream",
     "text": [
      "1041 1024\n"
     ]
    }
   ],
   "source": [
    "root = Tk()\n",
    "\n",
    "panelA = None\n",
    "panelB = None\n",
    "\n",
    "\n",
    "# create a button, then when pressed, will trigger a file chooser\n",
    "# dialog and allow the user to select an input image; then add the\n",
    "# button the GUI\n",
    "\n",
    "label1 = Label(root, text = \"a\", font=(\"Arial\", 10, \"bold\"), width=20)\n",
    "label1.pack(padx=\"10\", pady=\"10\")\n",
    "slider1 = Scale(root,from_=1, to=25, resolution=0.5, orient=HORIZONTAL)\n",
    "slider1.pack(padx=\"10\", pady=\"10\")\n",
    "\n",
    "label2 = Label(root, text = \"b\", font=(\"Arial\", 10, \"bold\"), width=20)\n",
    "label2.pack(padx=\"10\", pady=\"10\")\n",
    "slider2 = Scale(root, from_=1, to=15, resolution=0.1, orient=HORIZONTAL)\n",
    "slider2.pack(padx=\"10\", pady=\"10\")\n",
    "\n",
    "btn = Button(root, text=\"Select an image\", command=select_image)\n",
    "\n",
    "btn.pack(side=\"bottom\", fill=\"both\", expand=\"yes\", padx=\"10\", pady=\"10\")\n",
    "# kick off the GUI\n",
    "root.mainloop()    "
   ]
  },
  {
   "cell_type": "code",
   "execution_count": null,
   "metadata": {},
   "outputs": [],
   "source": []
  }
 ],
 "metadata": {
  "kernelspec": {
   "display_name": "Python 3",
   "language": "python",
   "name": "python3"
  },
  "language_info": {
   "codemirror_mode": {
    "name": "ipython",
    "version": 3
   },
   "file_extension": ".py",
   "mimetype": "text/x-python",
   "name": "python",
   "nbconvert_exporter": "python",
   "pygments_lexer": "ipython3",
   "version": "3.8.5"
  },
  "metadata": {
   "interpreter": {
    "hash": "1a0ac4e52035fa53003c0ddc56af00520b2463657eca54eecb7e0c5c63ca53cf"
   }
  }
 },
 "nbformat": 4,
 "nbformat_minor": 4
}
